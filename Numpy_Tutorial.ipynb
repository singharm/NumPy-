{
  "nbformat": 4,
  "nbformat_minor": 0,
  "metadata": {
    "colab": {
      "name": "Numpy Tutorial.ipynb",
      "provenance": [],
      "collapsed_sections": []
    },
    "kernelspec": {
      "name": "python3",
      "display_name": "Python 3"
    },
    "language_info": {
      "name": "python"
    }
  },
  "cells": [
    {
      "cell_type": "code",
      "execution_count": 1,
      "metadata": {
        "colab": {
          "base_uri": "https://localhost:8080/"
        },
        "id": "v-yZPix2ljAX",
        "outputId": "fe929c3e-04f0-415c-f546-36ce1c866395"
      },
      "outputs": [
        {
          "output_type": "stream",
          "name": "stdout",
          "text": [
            "what is your name? Armaan Singh\n",
            "Armaan Singh\n",
            "current day:  2022-04-04\n",
            "current time:  17:59:06.806414\n"
          ]
        }
      ],
      "source": [
        "from datetime import datetime\n",
        "from datetime import date\n",
        "import pytz\n",
        "print(input(\"what is your name? \"))\n",
        "tz_NY = pytz.timezone('America/New_York')\n",
        "now=datetime.now(tz_NY).time()\n",
        "day=date.today()\n",
        "print(\"current day: \", day)\n",
        "print('current time: ', now)"
      ]
    },
    {
      "cell_type": "code",
      "source": [
        "import pandas as pd\n",
        "import numpy as np"
      ],
      "metadata": {
        "id": "KwfqNA3lloDj"
      },
      "execution_count": 2,
      "outputs": []
    },
    {
      "cell_type": "code",
      "source": [
        "print(np.__version__)"
      ],
      "metadata": {
        "colab": {
          "base_uri": "https://localhost:8080/"
        },
        "id": "Sr1QVAXAlwrx",
        "outputId": "0c9af026-0c00-4115-f1ae-0c28da8abaff"
      },
      "execution_count": 3,
      "outputs": [
        {
          "output_type": "stream",
          "name": "stdout",
          "text": [
            "1.21.5\n"
          ]
        }
      ]
    },
    {
      "cell_type": "code",
      "source": [
        "arr = np.array([1, 2, 3, 4, 5])\n",
        "print(arr)\n",
        "print(type(arr))"
      ],
      "metadata": {
        "colab": {
          "base_uri": "https://localhost:8080/"
        },
        "id": "TMA-priKl1Wv",
        "outputId": "b5f94540-400d-4505-b215-3b1bc096b370"
      },
      "execution_count": 5,
      "outputs": [
        {
          "output_type": "stream",
          "name": "stdout",
          "text": [
            "[1 2 3 4 5]\n",
            "<class 'numpy.ndarray'>\n"
          ]
        }
      ]
    },
    {
      "cell_type": "code",
      "source": [
        "arr_2d = np.array([[1, 2, 3], [4, 5, 6]])\n",
        "print(arr_2d)"
      ],
      "metadata": {
        "colab": {
          "base_uri": "https://localhost:8080/"
        },
        "id": "ktLC6JRgl5kJ",
        "outputId": "533582d6-a790-412b-9d9a-361ee4161e98"
      },
      "execution_count": 6,
      "outputs": [
        {
          "output_type": "stream",
          "name": "stdout",
          "text": [
            "[[1 2 3]\n",
            " [4 5 6]]\n"
          ]
        }
      ]
    },
    {
      "cell_type": "code",
      "source": [
        "arr_3d = np.array([[[1, 2, 3], [4, 5, 6]], [[1, 2, 3], [4, 5, 6]]])\n",
        "print(arr_3d)"
      ],
      "metadata": {
        "colab": {
          "base_uri": "https://localhost:8080/"
        },
        "id": "LtWmUOKLmD7-",
        "outputId": "fb86ac45-4b13-4fbd-ea37-ff1e8a8a7c66"
      },
      "execution_count": 7,
      "outputs": [
        {
          "output_type": "stream",
          "name": "stdout",
          "text": [
            "[[[1 2 3]\n",
            "  [4 5 6]]\n",
            "\n",
            " [[1 2 3]\n",
            "  [4 5 6]]]\n"
          ]
        }
      ]
    },
    {
      "cell_type": "code",
      "source": [
        "a = np.array(42)\n",
        "b = np.array([1, 2, 3, 4, 5])\n",
        "c = np.array([[1, 2, 3], [4, 5, 6]])\n",
        "d = np.array([[[1, 2, 3], [4, 5, 6]], [[1, 2, 3], [4, 5, 6]]])\n",
        "print(a.ndim)\n",
        "print(b.ndim)\n",
        "print(c.ndim)\n",
        "print(d.ndim)\n"
      ],
      "metadata": {
        "colab": {
          "base_uri": "https://localhost:8080/"
        },
        "id": "FcrdciIZmIDX",
        "outputId": "32bc8a6a-6ec1-4ba5-929e-3568c8f79eb4"
      },
      "execution_count": 8,
      "outputs": [
        {
          "output_type": "stream",
          "name": "stdout",
          "text": [
            "0\n",
            "1\n",
            "2\n",
            "3\n"
          ]
        }
      ]
    },
    {
      "cell_type": "code",
      "source": [
        "arr_1 = np.array([1, 2, 3, 4])\n",
        "print(arr_1[1])"
      ],
      "metadata": {
        "colab": {
          "base_uri": "https://localhost:8080/"
        },
        "id": "zQ6PdrobmL3v",
        "outputId": "d90ecbde-d2fc-4e97-eaf9-2c55aa313cf5"
      },
      "execution_count": 9,
      "outputs": [
        {
          "output_type": "stream",
          "name": "stdout",
          "text": [
            "2\n"
          ]
        }
      ]
    },
    {
      "cell_type": "code",
      "source": [
        "arr_2 = np.array([1, 2, 3, 4])\n",
        "print(arr_2[2] + arr_2[3])"
      ],
      "metadata": {
        "colab": {
          "base_uri": "https://localhost:8080/"
        },
        "id": "GGpokaFpmP8b",
        "outputId": "08860642-d1f8-4da4-c1a6-4e200e83144e"
      },
      "execution_count": 10,
      "outputs": [
        {
          "output_type": "stream",
          "name": "stdout",
          "text": [
            "7\n"
          ]
        }
      ]
    },
    {
      "cell_type": "code",
      "source": [
        "\n",
        "arr_3 = np.array([[1,2,3,4,5], [6,7,8,9,10]])\n",
        "print('2nd element on 1st row: ', arr_3[0, 1])"
      ],
      "metadata": {
        "colab": {
          "base_uri": "https://localhost:8080/"
        },
        "id": "YpLBLRuImTKZ",
        "outputId": "ccc0d10f-8972-47eb-9956-3cfbd06c0714"
      },
      "execution_count": 11,
      "outputs": [
        {
          "output_type": "stream",
          "name": "stdout",
          "text": [
            "2nd element on 1st row:  2\n"
          ]
        }
      ]
    },
    {
      "cell_type": "code",
      "source": [
        "arr_4 = np.array([[1,2,3,4,5], [6,7,8,9,10]])\n",
        "print('5th element on 2nd row: ', arr_4[1, 4])"
      ],
      "metadata": {
        "colab": {
          "base_uri": "https://localhost:8080/"
        },
        "id": "5D8uM8hEmX1o",
        "outputId": "dac3a4e7-7c51-4eb8-d357-095f31992ad1"
      },
      "execution_count": 12,
      "outputs": [
        {
          "output_type": "stream",
          "name": "stdout",
          "text": [
            "5th element on 2nd row:  10\n"
          ]
        }
      ]
    },
    {
      "cell_type": "code",
      "source": [
        "arr_5 = np.array([[[1, 2, 3], [4, 5, 6]], [[7, 8, 9], [10, 11, 12]]])\n",
        "print(arr_5[0, 1, 2])"
      ],
      "metadata": {
        "colab": {
          "base_uri": "https://localhost:8080/"
        },
        "id": "KYe1p43hmbzV",
        "outputId": "190f5829-7c9b-4abc-935d-128f983d52ea"
      },
      "execution_count": 13,
      "outputs": [
        {
          "output_type": "stream",
          "name": "stdout",
          "text": [
            "6\n"
          ]
        }
      ]
    },
    {
      "cell_type": "code",
      "source": [
        "arr_6 = np.array([1, 2, 3, 4, 5, 6, 7])\n",
        "print(arr_6[1:5])"
      ],
      "metadata": {
        "colab": {
          "base_uri": "https://localhost:8080/"
        },
        "id": "UIBarCEbme4l",
        "outputId": "357bff11-38ab-42f4-b44f-180568eb9587"
      },
      "execution_count": 14,
      "outputs": [
        {
          "output_type": "stream",
          "name": "stdout",
          "text": [
            "[2 3 4 5]\n"
          ]
        }
      ]
    },
    {
      "cell_type": "code",
      "source": [
        "arr_7 = np.array([1, 2, 3, 4, 5, 6, 7])\n",
        "print(arr_7[-3:-1])"
      ],
      "metadata": {
        "colab": {
          "base_uri": "https://localhost:8080/"
        },
        "id": "eubDFaBamjwg",
        "outputId": "1a932280-20ef-42fc-c4c4-c439e60b3bb3"
      },
      "execution_count": 15,
      "outputs": [
        {
          "output_type": "stream",
          "name": "stdout",
          "text": [
            "[5 6]\n"
          ]
        }
      ]
    },
    {
      "cell_type": "code",
      "source": [
        "arr_8 = np.array([[1, 2, 3, 4, 5], [6, 7, 8, 9, 10]])\n",
        "print(arr_8[1, 1:4])"
      ],
      "metadata": {
        "colab": {
          "base_uri": "https://localhost:8080/"
        },
        "id": "VWHqs9GAmmPm",
        "outputId": "d539c54d-9268-4095-8304-e80918715c22"
      },
      "execution_count": 16,
      "outputs": [
        {
          "output_type": "stream",
          "name": "stdout",
          "text": [
            "[7 8 9]\n"
          ]
        }
      ]
    },
    {
      "cell_type": "code",
      "source": [
        "arr_9 = np.array([[1, 2, 3, 4, 5], [6, 7, 8, 9, 10]])\n",
        "print(arr_9[0:2, 2])"
      ],
      "metadata": {
        "colab": {
          "base_uri": "https://localhost:8080/"
        },
        "id": "FwpsymsUmpR4",
        "outputId": "dc2b0181-af9e-4dff-88e1-4dfadb5e1f81"
      },
      "execution_count": 17,
      "outputs": [
        {
          "output_type": "stream",
          "name": "stdout",
          "text": [
            "[3 8]\n"
          ]
        }
      ]
    },
    {
      "cell_type": "code",
      "source": [
        "arr_10 = np.array([[1, 2, 3, 4, 5], [6, 7, 8, 9, 10]])\n",
        "print(arr_10[0:2, 1:4])"
      ],
      "metadata": {
        "colab": {
          "base_uri": "https://localhost:8080/"
        },
        "id": "Z3lGJje0msr9",
        "outputId": "169efd30-5ee2-4bf7-a981-257b029cc198"
      },
      "execution_count": 18,
      "outputs": [
        {
          "output_type": "stream",
          "name": "stdout",
          "text": [
            "[[2 3 4]\n",
            " [7 8 9]]\n"
          ]
        }
      ]
    },
    {
      "cell_type": "code",
      "source": [
        "arr_11 = np.array([1, 2, 3, 4, 5])\n",
        "x_1 = arr_11.copy()\n",
        "arr_11[0] = 42\n",
        "print(arr_11)\n",
        "print(x_1)"
      ],
      "metadata": {
        "colab": {
          "base_uri": "https://localhost:8080/"
        },
        "id": "Gjfo9kRJmvp3",
        "outputId": "7aa5f07e-9216-43ed-a18e-1703f9c9ab7b"
      },
      "execution_count": 19,
      "outputs": [
        {
          "output_type": "stream",
          "name": "stdout",
          "text": [
            "[42  2  3  4  5]\n",
            "[1 2 3 4 5]\n"
          ]
        }
      ]
    },
    {
      "cell_type": "code",
      "source": [
        "arr_12 = np.array([1, 2, 3, 4, 5])\n",
        "x_2 = arr_12.view()\n",
        "x_2[0] = 31\n",
        "print(arr_12)\n",
        "print(x_2)"
      ],
      "metadata": {
        "colab": {
          "base_uri": "https://localhost:8080/"
        },
        "id": "l7I0IXx-my8R",
        "outputId": "dc5144d2-d0f5-4e62-a5a8-0b0aadb827d5"
      },
      "execution_count": 20,
      "outputs": [
        {
          "output_type": "stream",
          "name": "stdout",
          "text": [
            "[31  2  3  4  5]\n",
            "[31  2  3  4  5]\n"
          ]
        }
      ]
    },
    {
      "cell_type": "code",
      "source": [
        "arr_13 = np.array([[1, 2, 3, 4], [5, 6, 7, 8]])\n",
        "print(arr_13.shape)"
      ],
      "metadata": {
        "colab": {
          "base_uri": "https://localhost:8080/"
        },
        "id": "euNtr4Mnm2NZ",
        "outputId": "80e1a016-d02e-45e9-91b2-561cbf627688"
      },
      "execution_count": 21,
      "outputs": [
        {
          "output_type": "stream",
          "name": "stdout",
          "text": [
            "(2, 4)\n"
          ]
        }
      ]
    },
    {
      "cell_type": "code",
      "source": [
        "arr_14 = np.array([1, 2, 3, 4, 5, 6, 7, 8, 9, 10, 11, 12])\n",
        "newarr = arr_14.reshape(4, 3)\n",
        "print(newarr)"
      ],
      "metadata": {
        "colab": {
          "base_uri": "https://localhost:8080/"
        },
        "id": "YyYdNUXSm5R2",
        "outputId": "87952d33-e244-4f45-a5ed-66f41c1e9dfe"
      },
      "execution_count": 22,
      "outputs": [
        {
          "output_type": "stream",
          "name": "stdout",
          "text": [
            "[[ 1  2  3]\n",
            " [ 4  5  6]\n",
            " [ 7  8  9]\n",
            " [10 11 12]]\n"
          ]
        }
      ]
    },
    {
      "cell_type": "code",
      "source": [
        "arr_15 = np.array([1, 2, 3, 4, 5, 6, 7, 8])\n",
        "print(arr_15.reshape(2,4))\n",
        "print(\"*********************\")\n",
        "print(arr_15.reshape(2, 4).base)"
      ],
      "metadata": {
        "colab": {
          "base_uri": "https://localhost:8080/"
        },
        "id": "jn6hw4LSm8x2",
        "outputId": "f827ee7b-da64-4ff5-fef0-29ce8552fecd"
      },
      "execution_count": 23,
      "outputs": [
        {
          "output_type": "stream",
          "name": "stdout",
          "text": [
            "[[1 2 3 4]\n",
            " [5 6 7 8]]\n",
            "*********************\n",
            "[1 2 3 4 5 6 7 8]\n"
          ]
        }
      ]
    },
    {
      "cell_type": "code",
      "source": [
        "arr_16 = np.array([1, 2, 3])\n",
        "for x in arr_16:\n",
        "  print(x)"
      ],
      "metadata": {
        "colab": {
          "base_uri": "https://localhost:8080/"
        },
        "id": "weucxwYnnA8k",
        "outputId": "b1129ea8-e83c-4693-b84f-d16a32ab06da"
      },
      "execution_count": 25,
      "outputs": [
        {
          "output_type": "stream",
          "name": "stdout",
          "text": [
            "1\n",
            "2\n",
            "3\n"
          ]
        }
      ]
    },
    {
      "cell_type": "code",
      "source": [
        "arr_17 = np.array([[1, 2, 3], [4, 5, 6]])\n",
        "for x in arr_17:\n",
        "  print(x)"
      ],
      "metadata": {
        "colab": {
          "base_uri": "https://localhost:8080/"
        },
        "id": "KuS6KIsmnEh4",
        "outputId": "a9233d2e-07a5-4423-880b-fb246a5bcd2a"
      },
      "execution_count": 26,
      "outputs": [
        {
          "output_type": "stream",
          "name": "stdout",
          "text": [
            "[1 2 3]\n",
            "[4 5 6]\n"
          ]
        }
      ]
    },
    {
      "cell_type": "code",
      "source": [
        "arr_18 = np.array([[1, 2, 3], [4, 5, 6]])\n",
        "for x in arr_18:\n",
        "  for y in x:\n",
        "    print(y)"
      ],
      "metadata": {
        "colab": {
          "base_uri": "https://localhost:8080/"
        },
        "id": "3xocwOkenLv7",
        "outputId": "6be70c2c-c100-4bd9-8b2b-0352fd840460"
      },
      "execution_count": 27,
      "outputs": [
        {
          "output_type": "stream",
          "name": "stdout",
          "text": [
            "1\n",
            "2\n",
            "3\n",
            "4\n",
            "5\n",
            "6\n"
          ]
        }
      ]
    },
    {
      "cell_type": "code",
      "source": [
        "arr_19 = np.array([[[1, 2, 3], [4, 5, 6]], [[7, 8, 9], [10, 11, 12]]])\n",
        "for x in arr_19:\n",
        "  print(x)\n",
        "  print(\"***********\")"
      ],
      "metadata": {
        "colab": {
          "base_uri": "https://localhost:8080/"
        },
        "id": "YqbkuD24nQOl",
        "outputId": "a8473fb9-e709-4bbf-d6bf-bb2359834d07"
      },
      "execution_count": 29,
      "outputs": [
        {
          "output_type": "stream",
          "name": "stdout",
          "text": [
            "[[1 2 3]\n",
            " [4 5 6]]\n",
            "***********\n",
            "[[ 7  8  9]\n",
            " [10 11 12]]\n",
            "***********\n"
          ]
        }
      ]
    },
    {
      "cell_type": "code",
      "source": [
        "arr_20 = np.array([[[1, 2, 3], [4, 5, 6]], [[7, 8, 9], [10, 11, 12]]])\n",
        "for x in arr_20:\n",
        "  for y in x:\n",
        "    print(y)\n",
        "    print(\"***********\")"
      ],
      "metadata": {
        "colab": {
          "base_uri": "https://localhost:8080/"
        },
        "id": "JczMX8njnTUp",
        "outputId": "088c9586-d71d-4bc2-ff2d-15c691abeb12"
      },
      "execution_count": 30,
      "outputs": [
        {
          "output_type": "stream",
          "name": "stdout",
          "text": [
            "[1 2 3]\n",
            "***********\n",
            "[4 5 6]\n",
            "***********\n",
            "[7 8 9]\n",
            "***********\n",
            "[10 11 12]\n",
            "***********\n"
          ]
        }
      ]
    },
    {
      "cell_type": "code",
      "source": [
        "arr21 = np.array([1, 2, 3])\n",
        "arr22 = np.array([4, 5, 6])\n",
        "arr_23 = np.concatenate((arr21, arr22))\n",
        "print(arr_23)"
      ],
      "metadata": {
        "colab": {
          "base_uri": "https://localhost:8080/"
        },
        "id": "ibDdf7VInbYR",
        "outputId": "f923a8a6-5b62-407b-b30a-ad4e5a5957df"
      },
      "execution_count": 31,
      "outputs": [
        {
          "output_type": "stream",
          "name": "stdout",
          "text": [
            "[1 2 3 4 5 6]\n"
          ]
        }
      ]
    },
    {
      "cell_type": "code",
      "source": [
        "arr24 = np.array([[1, 2], [3, 4]])\n",
        "arr25 = np.array([[5, 6], [7, 8]])\n",
        "arr_26 = np.concatenate((arr24, arr25), axis=1)\n",
        "print(arr_26)"
      ],
      "metadata": {
        "colab": {
          "base_uri": "https://localhost:8080/"
        },
        "id": "00IehOGwnfP8",
        "outputId": "85176efe-4ba8-4d2f-c6cd-b001dd230f4c"
      },
      "execution_count": 33,
      "outputs": [
        {
          "output_type": "stream",
          "name": "stdout",
          "text": [
            "[[1 2 5 6]\n",
            " [3 4 7 8]]\n"
          ]
        }
      ]
    },
    {
      "cell_type": "code",
      "source": [
        "arr27 = np.array([[1, 2], [3, 4]])\n",
        "arr28 = np.array([[5, 6], [7, 8]])\n",
        "arr_29 = np.concatenate((arr27, arr28), axis=0)\n",
        "print(arr_29)"
      ],
      "metadata": {
        "colab": {
          "base_uri": "https://localhost:8080/"
        },
        "id": "wHibXNbunk-E",
        "outputId": "512a1ae9-3b68-4dc7-d0a5-02784a980a05"
      },
      "execution_count": 34,
      "outputs": [
        {
          "output_type": "stream",
          "name": "stdout",
          "text": [
            "[[1 2]\n",
            " [3 4]\n",
            " [5 6]\n",
            " [7 8]]\n"
          ]
        }
      ]
    },
    {
      "cell_type": "code",
      "source": [
        "arr30 = np.array([1, 2, 3])\n",
        "arr31 = np.array([4, 5, 6])\n",
        "arr_32 = np.hstack((arr30, arr31))\n",
        "print(arr_32)"
      ],
      "metadata": {
        "colab": {
          "base_uri": "https://localhost:8080/"
        },
        "id": "0OvbmezEnpsZ",
        "outputId": "f407aeca-6895-4f69-9a42-253d81ee5347"
      },
      "execution_count": 35,
      "outputs": [
        {
          "output_type": "stream",
          "name": "stdout",
          "text": [
            "[1 2 3 4 5 6]\n"
          ]
        }
      ]
    },
    {
      "cell_type": "code",
      "source": [
        "arr33 = np.array([1, 2, 3])\n",
        "arr34 = np.array([4, 5, 6])\n",
        "arr_35 = np.vstack((arr33, arr34))\n",
        "print(arr_35)"
      ],
      "metadata": {
        "colab": {
          "base_uri": "https://localhost:8080/"
        },
        "id": "KlWQdmnFnten",
        "outputId": "823c1fbd-9e1e-4ad0-a9e8-9ba7314cb6cd"
      },
      "execution_count": 36,
      "outputs": [
        {
          "output_type": "stream",
          "name": "stdout",
          "text": [
            "[[1 2 3]\n",
            " [4 5 6]]\n"
          ]
        }
      ]
    },
    {
      "cell_type": "code",
      "source": [
        "arr_36 = np.array([1, 2, 3, 4, 5, 4, 4])\n",
        "x_3 = np.where(arr_36 == 4)\n",
        "print(x_3)"
      ],
      "metadata": {
        "colab": {
          "base_uri": "https://localhost:8080/"
        },
        "id": "p8MA2X3nnydh",
        "outputId": "d361dedb-9fe4-4100-d3ff-c3496379d5b4"
      },
      "execution_count": 37,
      "outputs": [
        {
          "output_type": "stream",
          "name": "stdout",
          "text": [
            "(array([3, 5, 6]),)\n"
          ]
        }
      ]
    },
    {
      "cell_type": "code",
      "source": [
        "arr_36 = np.array([1, 2, 3, 4, 5, 6, 7, 8])\n",
        "x_4 = np.where(arr_36%2 == 0)\n",
        "print(x_4)"
      ],
      "metadata": {
        "colab": {
          "base_uri": "https://localhost:8080/"
        },
        "id": "PMQOGH28n3bY",
        "outputId": "7409ed9e-96ee-4529-8cc5-0f6ec77f5005"
      },
      "execution_count": 38,
      "outputs": [
        {
          "output_type": "stream",
          "name": "stdout",
          "text": [
            "(array([1, 3, 5, 7]),)\n"
          ]
        }
      ]
    },
    {
      "cell_type": "code",
      "source": [
        "arr_37 = np.array([3, 2, 0, 1])\n",
        "print(np.sort(arr_37))"
      ],
      "metadata": {
        "colab": {
          "base_uri": "https://localhost:8080/"
        },
        "id": "3ZRDjDjyn6K-",
        "outputId": "7534cbfe-cab9-4703-fb7a-3fca24a76b1d"
      },
      "execution_count": 39,
      "outputs": [
        {
          "output_type": "stream",
          "name": "stdout",
          "text": [
            "[0 1 2 3]\n"
          ]
        }
      ]
    },
    {
      "cell_type": "code",
      "source": [
        "arr_38 = np.array(['banana', 'cherry', 'apple'])\n",
        "print(np.sort(arr_38))"
      ],
      "metadata": {
        "colab": {
          "base_uri": "https://localhost:8080/"
        },
        "id": "E8jedTfSn8sj",
        "outputId": "38f6c08a-f957-409a-ef19-4549d2e4edfc"
      },
      "execution_count": 40,
      "outputs": [
        {
          "output_type": "stream",
          "name": "stdout",
          "text": [
            "['apple' 'banana' 'cherry']\n"
          ]
        }
      ]
    },
    {
      "cell_type": "code",
      "source": [
        "arr_39 = np.array([[3, 2, 4], [5, 0, 1]])\n",
        "print(np.sort(arr_39))"
      ],
      "metadata": {
        "colab": {
          "base_uri": "https://localhost:8080/"
        },
        "id": "peR3VSeVn_oj",
        "outputId": "60c77444-9619-465c-aaac-ef42bcf511fb"
      },
      "execution_count": 41,
      "outputs": [
        {
          "output_type": "stream",
          "name": "stdout",
          "text": [
            "[[2 3 4]\n",
            " [0 1 5]]\n"
          ]
        }
      ]
    },
    {
      "cell_type": "code",
      "source": [
        "arr_40 = np.array([41, 42, 43, 44])\n",
        "x_5 = [True, False, True, False]\n",
        "newarr = arr_40[x_5]\n",
        "print(newarr)"
      ],
      "metadata": {
        "colab": {
          "base_uri": "https://localhost:8080/"
        },
        "id": "MNNXVJY-oDjA",
        "outputId": "17455643-a6c8-4ed0-86a0-004c53501488"
      },
      "execution_count": 42,
      "outputs": [
        {
          "output_type": "stream",
          "name": "stdout",
          "text": [
            "[41 43]\n"
          ]
        }
      ]
    },
    {
      "cell_type": "code",
      "source": [
        "arr_41 = np.array([41, 42, 43, 44])\n",
        "filter=arr_41>42\n",
        "arr_41[filter]"
      ],
      "metadata": {
        "colab": {
          "base_uri": "https://localhost:8080/"
        },
        "id": "SZway68aoIjh",
        "outputId": "c4a9bfdd-1358-4112-97e0-6d22f466a203"
      },
      "execution_count": 43,
      "outputs": [
        {
          "output_type": "execute_result",
          "data": {
            "text/plain": [
              "array([43, 44])"
            ]
          },
          "metadata": {},
          "execution_count": 43
        }
      ]
    },
    {
      "cell_type": "code",
      "source": [
        "arr_42 = np.array([1, 2, 3, 4, 5, 6, 7])\n",
        "filter_arr = arr_42 % 2 == 0\n",
        "newarr_2 = arr_42[filter_arr]\n",
        "print(filter_arr)\n",
        "print(newarr_2)"
      ],
      "metadata": {
        "colab": {
          "base_uri": "https://localhost:8080/"
        },
        "id": "w-eTmEw9oO3n",
        "outputId": "5e9e21f2-365f-402e-d781-3c859050a64e"
      },
      "execution_count": 44,
      "outputs": [
        {
          "output_type": "stream",
          "name": "stdout",
          "text": [
            "[False  True False  True False  True False]\n",
            "[2 4 6]\n"
          ]
        }
      ]
    },
    {
      "cell_type": "code",
      "source": [
        ""
      ],
      "metadata": {
        "id": "MjMI8iQloSB6"
      },
      "execution_count": null,
      "outputs": []
    }
  ]
}